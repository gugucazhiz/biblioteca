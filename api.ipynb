{
 "cells": [
  {
   "cell_type": "code",
   "execution_count": 2,
   "id": "0b180af1",
   "metadata": {},
   "outputs": [],
   "source": [
    "from pathlib import Path    \n",
    "import pandas as pd"
   ]
  },
  {
   "cell_type": "code",
   "execution_count": null,
   "id": "604bb984",
   "metadata": {},
   "outputs": [
    {
     "name": "stdout",
     "output_type": "stream",
     "text": [
      "Empty DataFrame\n",
      "Columns: [registro_sistema, titulo, sub_titulo, assunto, autor, tipo_material, quantidade, ano, edicao, editora, isbn, issn, id_exemplar, codigo_barras, colecao, biblioteca, status_material, localizacao, texto_busca]\n",
      "Index: []\n"
     ]
    }
   ],
   "source": [
    "df = pd.read_excel(\n",
    "    Path.cwd() / 'juncao.xlsx',\n",
    "    engine='openpyxl',\n",
    ")\n",
    "#história\n",
    "palavra_chave = [\"história\"]\n",
    "\n",
    "busca_colunas = [\"titulo\",\"sub_titulo\",\"assunto\"]\n",
    "\n",
    "df[\"texto_busca\"] = df[busca_colunas].astype(str).apply(lambda row: \" \".join(row),axis=1).str.lower()\n",
    "filtro = df[\"texto_busca\"].apply(lambda texto: any(palavra in texto for palavra in palavra_chave))\n",
    "livros = df[filtro]\n",
    "\n",
    "print(livros.head())\n",
    "#print(len(df[\"registro_sistema\"].tolist()))"
   ]
  }
 ],
 "metadata": {
  "kernelspec": {
   "display_name": "Python 3",
   "language": "python",
   "name": "python3"
  },
  "language_info": {
   "codemirror_mode": {
    "name": "ipython",
    "version": 3
   },
   "file_extension": ".py",
   "mimetype": "text/x-python",
   "name": "python",
   "nbconvert_exporter": "python",
   "pygments_lexer": "ipython3",
   "version": "3.11.2"
  }
 },
 "nbformat": 4,
 "nbformat_minor": 5
}

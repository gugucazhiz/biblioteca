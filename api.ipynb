{
 "cells": [
  {
   "cell_type": "code",
   "execution_count": 29,
   "id": "0b180af1",
   "metadata": {},
   "outputs": [],
   "source": [
    "from pathlib import Path    \n",
    "import pandas as pd\n",
    "from pyecharts import options as opts\n",
    "from pyecharts.charts import Bar"
   ]
  },
  {
   "cell_type": "code",
   "execution_count": null,
   "id": "604bb984",
   "metadata": {},
   "outputs": [
    {
     "name": "stdout",
     "output_type": "stream",
     "text": [
      "1375\n"
     ]
    }
   ],
   "source": [
    "df = pd.read_csv(\n",
    "    Path.cwd() / 'bd/juncao_csv.csv',\n",
    "    encoding=\"utf-8\",\n",
    "    sep=\",\",\n",
    "    quotechar='\"',\n",
    ")\n",
    "#história\n",
    "\n",
    "palavra_chave = [\"genética\",\n",
    "                 \"biologia\",\n",
    "                 \"agricultura\",\n",
    "                 \"zootecnia\",\n",
    "                 \"meio ambiente\",\n",
    "                 \"ecologia\"]\n",
    "\n",
    "busca_colunas = [\"titulo\",\"sub_titulo\",\"assunto\"]\n",
    "\n",
    "df[\"texto_busca\"] = df[busca_colunas].astype(str).apply(lambda row: \" \".join(row),axis=1).str.lower()\n",
    "ciencia_filtro = df[\"texto_busca\"].apply(lambda texto: any(palavra in texto for palavra in palavra_chave))\n",
    "ciencia = df[ciencia_filtro]\n",
    "\n",
    "ciencia.head()\n",
    "print(len(ciencia))\n",
    "#print(len(df[\"registro_sistema\"].tolist()))\n",
    "#ciencia.to_csv(\"TESTE.csv\",index=False,encoding=\"utf-8\")"
   ]
  },
  {
   "cell_type": "code",
   "execution_count": 62,
   "id": "7d2b5816",
   "metadata": {},
   "outputs": [
    {
     "name": "stdout",
     "output_type": "stream",
     "text": [
      "1148\n"
     ]
    }
   ],
   "source": [
    "#engenharia\n",
    "palavra_chave = [\"construção\",\n",
    "                 \"indústria química\",\n",
    "                 \"tecnologia agrícola\",\n",
    "                 \"controle de qualidade\",\n",
    "                 \"engenharia\",\n",
    "                 \"cálculo estrutural\",\n",
    "                 \"materiais de construção\",\n",
    "                 \"elétrica\",\n",
    "                 \"eletricidade\",\n",
    "                 \"circuitos elétricos\",\n",
    "                 \"eletrotécnica\",\n",
    "                 \"instalações prediais\",\n",
    "                 \"energia renovável\",\n",
    "                 \"irrigação e drenagem\",\n",
    "                 \"armazenamento e secagem de grãos\",\n",
    "                 \"construções rurais\",\n",
    "                 \"agricultura de precisão\",\n",
    "                 \"máquinas e equipamentos\",\n",
    "                 \"gestão produção\",\n",
    "                 \"logística\",\n",
    "                 \"produção\",\n",
    "                 \"qualidade\",\n",
    "                 \"pcp\"\n",
    "                 ]\n",
    "\n",
    "busca_colunas = [\"titulo\",\"sub_titulo\",\"assunto\"]\n",
    "\n",
    "df[\"texto_busca\"] = df[busca_colunas].astype(str).apply(lambda row: \" \".join(row),axis=1).str.lower()\n",
    "engenharia_filtro = df[\"texto_busca\"].apply(lambda texto: any(palavra in texto for palavra in palavra_chave))\n",
    "engenharia = df[engenharia_filtro]\n",
    "\n",
    "engenharia.head()\n",
    "print(len(engenharia))"
   ]
  },
  {
   "cell_type": "code",
   "execution_count": 108,
   "id": "3d13dc34",
   "metadata": {},
   "outputs": [
    {
     "name": "stdout",
     "output_type": "stream",
     "text": [
      "732\n"
     ]
    }
   ],
   "source": [
    "palavra_chave = ['programação',\"debian\",\n",
    "                 'computação', \"php\",\n",
    "                 'inteligência artificial',\"assembly\",\n",
    "                 'algoritmo',\"robô\",\n",
    "                 \"java\",\"robótica\",\n",
    "                 \"dados\",\n",
    "                 \"banco dados\",\n",
    "                 \"c++\",\n",
    "                 \"fortram\",\n",
    "                 \"sistemas\",\n",
    "                 \"linux\",\n",
    "                 \"redes\",\n",
    "                 \"hardware\",\n",
    "                 \"computador\",\n",
    "                 \"informática\",\n",
    "                 \"ponteiros\",\n",
    "                 \"wi-fi\",\n",
    "                 \"i.a\" ,\n",
    "                 \"códgio\",\n",
    "                 \"codificação\",\n",
    "                 \"html\",\n",
    "                 \"css\",             \n",
    "]\n",
    "\n",
    "busca_colunas = [\"titulo\",\"sub_titulo\",\"assunto\"]\n",
    "\n",
    "df[\"texto_busca\"] = df[busca_colunas].astype(str).apply(lambda row: \" \".join(row),axis=1).str.lower()\n",
    "software_filtro = df[\"texto_busca\"].apply(lambda texto: any(palavra in texto for palavra in palavra_chave))\n",
    "software = df[software_filtro]\n",
    "#software.to_csv(\"software.csv\",index=False,encoding=\"utf-8\")\n",
    "software.head()\n",
    "print(len(software))"
   ]
  },
  {
   "cell_type": "code",
   "execution_count": 109,
   "id": "a293859c",
   "metadata": {},
   "outputs": [
    {
     "data": {
      "text/plain": [
       "'/home/mogado/Programa/biblioteca_ufrn/teste.html'"
      ]
     },
     "execution_count": 109,
     "metadata": {},
     "output_type": "execute_result"
    }
   ],
   "source": [
    "bar = (\n",
    "    Bar())\n",
    "\n",
    "categorias= [\"Ciencia da Natureza\",\"Engenharia e Tecnologia\",\"Computador e Software\"]\n",
    "bar.add_xaxis(categorias)\n",
    "bar.add_yaxis(\"Quantidade De livros: \",[len(ciencia),len(engenharia),len(software)])\n",
    "\n",
    "bar.render(\"teste.html\")"
   ]
  }
 ],
 "metadata": {
  "kernelspec": {
   "display_name": "Python 3",
   "language": "python",
   "name": "python3"
  },
  "language_info": {
   "codemirror_mode": {
    "name": "ipython",
    "version": 3
   },
   "file_extension": ".py",
   "mimetype": "text/x-python",
   "name": "python",
   "nbconvert_exporter": "python",
   "pygments_lexer": "ipython3",
   "version": "3.11.2"
  }
 },
 "nbformat": 4,
 "nbformat_minor": 5
}
